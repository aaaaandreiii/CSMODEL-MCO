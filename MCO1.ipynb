{
 "cells": [
  {
   "cell_type": "markdown",
   "id": "315a37c6",
   "metadata": {},
   "source": [
    "# Labor Force Survery 2024\n",
    "#### Goal: Find what factors affect a person's employability"
   ]
  },
  {
   "cell_type": "markdown",
   "id": "cc0437a3",
   "metadata": {},
   "source": [
    "___"
   ]
  },
  {
   "cell_type": "markdown",
   "id": "5d4b54fe",
   "metadata": {},
   "source": [
    "### CSMODEL Major Course Output *Phase 1*\n",
    "\n",
    "Members:\n",
    "* AVELINO, Sophia Kylie\n",
    "* BALINGIT, Andrei Luis\n",
    "* WONG, Ching Man\n",
    "* YOUNG, Cedric Francis"
   ]
  },
  {
   "cell_type": "markdown",
   "id": "42265de4",
   "metadata": {},
   "source": [
    "___"
   ]
  },
  {
   "cell_type": "markdown",
   "id": "c14e62af",
   "metadata": {},
   "source": [
    "### Phase 1: data description, target research question, preprocessing, and exploratory data analysis"
   ]
  },
  {
   "cell_type": "markdown",
   "id": "5d67c914",
   "metadata": {},
   "source": [
    "> Deliverables:\n",
    ">\n",
    "> A Jupyter Notebook containing all the data processing you did in the project. The Notebook should include Markdown\n",
    "cells explaining each process, and highlighting the insights and conclusions. The Notebook should be structured in a\n",
    "way that (1) is easy to understand, and (2) can be run sequentially to reproduce all outputs in your work."
   ]
  },
  {
   "cell_type": "markdown",
   "id": "76e3c0cc",
   "metadata": {},
   "source": [
    "## Section 1 - Dataset Description"
   ]
  },
  {
   "cell_type": "markdown",
   "id": "f6143340",
   "metadata": {},
   "source": [
    "### Section 1.1 - Introduction ###\n",
    "\n",
    "This project entails exploring the Labor Force Survey (LFS) dataset, which is a nationwide survey of households every quarter that captures demographic and socio-economic information in regards to the current Labor Force of the Philippines. The primary purpose of the LFS is to obtain an estimate of employment and unemployment rates in the labor market and offer a quantitative framework for the formulation of labor market policies. The information encompasses a comprehensive range of individual and household characteristics for all the socio-economic factors.\n",
    "\n",
    "The database, obtained from the Philippine Statistics Authority (PSA), contains records of a national sample of about 42,768 households (Batanes included) or 42,576 households (Batanes excluded) per round of surveys. It contains detailed data for each person in the households surveyed, namely demographic traits (age, sex, marital status), educational level, occupation, and work status. The reporting unit is the household, which in turn means that the statistics present the traits of people living in private households only and not those in institutions.\n",
    "\n",
    "## Problem Statement \n",
    "\n",
    "The specific task we aim to address is a classification problem. In this notebook, we seek to predict whether an individual has worked in the past week(PUFC11_WORK) which is answered by a binary yes or no input, using the features provided in the LFS dataset. The target variable, PUFC11_WORK, is a binary variable indicating whether an individual has worked in the past week (Yes/No). This is a binary classification problem, where we aim to classify individuals into two groups: those who have worked and those who have not, based on their demographic and socio-economic characteristics. Thus, the goal of our models is to predict which of the two groups is a person a part of based on demographic variables, educational attainment, occupation, and household characteristics features provided by the LFS dataset. Namely, these feature columns are described as the following:"
   ]
  },
  {
   "cell_type": "markdown",
   "id": "94a922f2",
   "metadata": {},
   "source": [
    "Included in the dataset is a PDF file titled 'Dataset 2- Labor Force Survey 2016' in which we explored the descriptions of each feature provided.  \n",
    "\n",
    "Considering this, we have categorized the features as below:\n",
    "\n",
    "#### 1. Demographic Variables\n",
    "\n",
    "    PUFREG → Region\n",
    "\n",
    "    PUFPRV → Province Code\n",
    "\n",
    "    PUFPRRCD → Province Recode\n",
    "\n",
    "    PUFSVYMO → Survey Month\n",
    "\n",
    "    PUFSVYYR → Survey Year\n",
    "\n",
    "    PUFC04_SEX → Sex\n",
    "\n",
    "    PUFC03_REL → Relationship to Household Head\n",
    "\n",
    "    PUFC05_AGE → Age as of Last Birthday\n",
    "\n",
    "    PUFC06_MSTAT → Marital Status\n",
    "\n",
    "\n",
    "\n",
    "#### 2. Household Characteristics\n",
    "\n",
    "    PUFHHNUM → Household Unique Sequential Number\n",
    "\n",
    "    PUFURB2K10 → 2010 Urban-Rural FIES\n",
    "    \n",
    "    PUFPWGTFIN → Final Weight Based on Projection (Provincial Projections)\n",
    "    \n",
    "    PUFPSU → PSU Number\n",
    "    \n",
    "    PUFRPL → Replicate\n",
    "    \n",
    "    PUFHHSIZE → Household Size\n",
    "    \n",
    "    PUFC01_LNO → Line Number (Household Member Identifier)\n",
    "\n",
    "\n",
    "\n",
    "#### 3. Educational Attainment\n",
    "    \n",
    "    PUFC07_GRADE → Highest Grade Completed\n",
    "    \n",
    "    PUFC08_CURSCH → Currently Attending School\n",
    "    \n",
    "    PUFC09_GRADTECH → Graduate of Technical/Vocational Course\n",
    "\n",
    "\n",
    "#### 4. Occupation and Work Characteristics\n",
    "    \n",
    "    PUFC14_PROCC → Primary Occupation\n",
    "    \n",
    "    PUFC16_PKB → Kind of Business (Primary Occupation)\n",
    "    \n",
    "    PUFC17_NATEM → Nature of Employment (Primary Occupation)\n",
    "    \n",
    "    PUFC18_PNWHRS → Normal Working Hours per Day\n",
    "    \n",
    "    PUFC19_PHOURS → Total Number of Hours Worked During the Past Week\n",
    "    \n",
    "    PUFC20_PWMORE → Want More Hours of Work\n",
    "    \n",
    "    PUFC21_PLADDW → Look for Additional Work\n",
    "    \n",
    "    PUFC23_PCLASS → Class of Worker (Primary Occupation)\n",
    "    \n",
    "    PUFC24_PBASIS → Basis of Payment (Primary Occupation)\n",
    "    \n",
    "    PUFC25_PBASIC → Basic Pay per Day (Primary Occupation)\n",
    "    \n",
    "    PUFC26_OJOB → Other Job Indicator\n",
    "    \n",
    "    PUFC27_NJOBS → Number of Jobs During the Past Week\n",
    "    \n",
    "    PUFC28_THOURS → Total Hours Worked for All Jobs\n",
    "    \n",
    "    PUFC29_WWM48H → Reasons for Working More than 48 Hours During the Past Week\n",
    "    \n",
    "    PUFC38_PREVJOB → Previous Job Indicator\n",
    "    \n",
    "    PUFC40_POCC → Previous Occupation\n",
    "    \n",
    "    PUFC41_WQTR → Did Work or Had a Job During the Past Quarter\n",
    "    \n",
    "    PUFC43_QKB → Kind of Business (Past Quarter)\n",
    "\n",
    "\n",
    "\n",
    "#### 5. Unemployment and Underemployment\n",
    "    \n",
    "    PUFC30_LOOKW → Looked for Work or Tried to Establish Business During the Past Week\n",
    "    \n",
    "    PUFC31_FLWRK → First Time to Look for Work\n",
    "    \n",
    "    PUFC32_JOBSM → Job Search Method\n",
    "    \n",
    "    PUFC33_WEEKS → Number of Weeks Spent in Looking for Work\n",
    "    \n",
    "    PUFC34_WYNOT → Reason for Not Looking for Work\n",
    "    \n",
    "    PUFC35_LTLOOKW → When Last Looked for Work\n",
    "    \n",
    "    PUFC36_AVAIL → Available for Work\n",
    "    \n",
    "    PUFC37_WILLING → Willingness to Take Up Work During the Past Week or Within Two Weeks"
   ]
  },
  {
   "cell_type": "markdown",
   "id": "22a3d223",
   "metadata": {},
   "source": [
    "The variables in this Notebook are as follows:\n",
    "\n",
    "- `genhlth` - A categorical vector indicating general health, with categories `excellent`, `very good`, `good`, `fair`, and `poor`.\n",
    "- `smoke100` - A categorical vector, 1 if the respondent has smoked at least 100 cigarettes in their entire life and 0 otherwise.\n",
    "- `exerany` - A categorical vector, 1 if the respondent exercised in the past month and 0 otherwise."
   ]
  },
  {
   "cell_type": "markdown",
   "id": "c9ba94cf",
   "metadata": {},
   "source": [
    "Section 1.3 - Libraries needed"
   ]
  },
  {
   "cell_type": "code",
   "execution_count": 1,
   "id": "d8af214e",
   "metadata": {},
   "outputs": [],
   "source": [
    "import numpy as np"
   ]
  },
  {
   "cell_type": "markdown",
   "id": "9ba4b314",
   "metadata": {},
   "source": [
    "## Section 2 - Data Cleaning"
   ]
  },
  {
   "cell_type": "markdown",
   "id": "0d097612",
   "metadata": {},
   "source": [
    "### Section 2.1 - Research Question & Exploratory Data Analysis"
   ]
  },
  {
   "cell_type": "markdown",
   "id": "556369f9",
   "metadata": {},
   "source": [
    "___"
   ]
  },
  {
   "cell_type": "markdown",
   "id": "4a376e8a",
   "metadata": {},
   "source": [
    "### Phase 2: statistical inference, data mining, key insights and conclusions"
   ]
  },
  {
   "cell_type": "markdown",
   "id": "c08089f5",
   "metadata": {},
   "source": [
    "> Delivarables:\n",
    "> \n",
    "> 1. A Jupyter Notebook containing all the data processing you did in the project. The Notebook should include Markdown\n",
    "cells explaining each process, and highlighting the insights and conclusions. The Notebook should be structured in a\n",
    "way that (1) is easy to understand, and (2) can be run sequentially to reproduce all outputs in your work.\n",
    "> \n",
    "> 2. A poster that communicates all key findings and insights of your work. The poster should be intuitive to understand,\n",
    "and intended for a general audience."
   ]
  },
  {
   "cell_type": "markdown",
   "id": "61605bae",
   "metadata": {},
   "source": [
    "## Section 3 - Data Mining"
   ]
  },
  {
   "cell_type": "markdown",
   "id": "abdd834a",
   "metadata": {},
   "source": [
    "## Section 4 - Statistical Inference"
   ]
  },
  {
   "cell_type": "markdown",
   "id": "f709d201",
   "metadata": {},
   "source": [
    "## Section 5 - Insights and Conclusions"
   ]
  },
  {
   "cell_type": "markdown",
   "id": "64c8c0df",
   "metadata": {},
   "source": [
    "Your must ensure that you will go through all of these minimum requirement tasks in your project:\n",
    "1. identify a general research question that you aim to answer in your data narrative\n",
    "2. perform exploratory data analysis, covering at least 3 EDA questions, to get a good understanding of the data\n",
    "3. conduct at least 3 statistical tests to establish three sound conclusions from the data\n",
    "4. apply at least one of the following techniques: (1) rule mining, (2) clustering, or (3) collaborative filtering to discover\n",
    "meaningful insights from the data (you may also choose to apply any of the variants of the above approaches)"
   ]
  },
  {
   "cell_type": "code",
   "execution_count": 1,
   "id": "f89395bb",
   "metadata": {},
   "outputs": [
    {
     "name": "stdout",
     "output_type": "stream",
     "text": [
      "<class 'pandas.core.frame.DataFrame'>\n",
      "RangeIndex: 44063 entries, 0 to 44062\n",
      "Data columns (total 41 columns):\n",
      " #   Column           Non-Null Count  Dtype  \n",
      "---  ------           --------------  -----  \n",
      " 0   PUFREG           44063 non-null  int64  \n",
      " 1   PUFHHNUM         44063 non-null  int64  \n",
      " 2   PUFPWGTPRV       44063 non-null  float64\n",
      " 3   PUFSVYMO         44063 non-null  int64  \n",
      " 4   PUFSVYYR         44063 non-null  int64  \n",
      " 5   PUFPSU           44063 non-null  int64  \n",
      " 6   PUFRPL           44063 non-null  int64  \n",
      " 7   PUFHHSIZE        44063 non-null  int64  \n",
      " 8   PUFC01_LNO       44063 non-null  int64  \n",
      " 9   PUFC03_REL       44063 non-null  int64  \n",
      " 10  PUFC04_SEX       44063 non-null  int64  \n",
      " 11  PUFC05_AGE       44063 non-null  int64  \n",
      " 12  PUFC06_MSTAT     44063 non-null  object \n",
      " 13  PUFC07_GRADE     44063 non-null  object \n",
      " 14  PUFC08_CONWR     44063 non-null  object \n",
      " 15  PUFC09_WORK      44063 non-null  object \n",
      " 16  PUFC09A_WORK     44063 non-null  object \n",
      " 17  PUFC10_JOB       44063 non-null  object \n",
      " 18  PUFC11A_PROVMUN  44063 non-null  object \n",
      " 19  PUFC13_PROCC     44063 non-null  object \n",
      " 20  PUFC15_PKB       44063 non-null  object \n",
      " 21  PUFC16_NATEM     44063 non-null  object \n",
      " 22  PUFC17_PNWHRS    44063 non-null  object \n",
      " 23  PUFC18_PHOURS    44063 non-null  object \n",
      " 24  PUFC19_PWMORE    44063 non-null  object \n",
      " 25  PUFC20_PLADDW    44063 non-null  object \n",
      " 26  PUFC20B_FTWORK   44063 non-null  object \n",
      " 27  PUFC21_PCLASS    44063 non-null  object \n",
      " 28  PUFC22_OJOB      44063 non-null  object \n",
      " 29  PUFC23_THOURS    44063 non-null  object \n",
      " 30  PUFC24_WWM48H    44063 non-null  object \n",
      " 31  PUFC25_LOOKW     44063 non-null  object \n",
      " 32  PUFC25B_FTWORK   44063 non-null  object \n",
      " 33  PUFC26_WYNOT     44063 non-null  object \n",
      " 34  PUFC27_AVAIL     44063 non-null  object \n",
      " 35  PUFC28_PREVJOB   44063 non-null  object \n",
      " 36  PUFC29_YEAR      44063 non-null  object \n",
      " 37  PUFC29_MONTH     44063 non-null  object \n",
      " 38  PUFC31_POCC      44063 non-null  object \n",
      " 39  PUFC33_QKB       44063 non-null  object \n",
      " 40  PUFNEWEMPSTAT    44063 non-null  object \n",
      "dtypes: float64(1), int64(11), object(29)\n",
      "memory usage: 13.8+ MB\n"
     ]
    }
   ],
   "source": [
    "import pandas as pd\n",
    "df = pd.read_csv('src/data/LFS PUF March 2024.CSV')\n",
    "df.info()"
   ]
  },
  {
   "cell_type": "code",
   "execution_count": 2,
   "id": "5458aa29",
   "metadata": {},
   "outputs": [
    {
     "data": {
      "text/plain": [
       "['PUFREG',\n",
       " 'PUFHHNUM',\n",
       " 'PUFPWGTPRV',\n",
       " 'PUFSVYMO',\n",
       " 'PUFSVYYR',\n",
       " 'PUFPSU',\n",
       " 'PUFRPL',\n",
       " 'PUFHHSIZE',\n",
       " 'PUFC01_LNO',\n",
       " 'PUFC03_REL',\n",
       " 'PUFC04_SEX',\n",
       " 'PUFC05_AGE',\n",
       " 'PUFC06_MSTAT',\n",
       " 'PUFC07_GRADE',\n",
       " 'PUFC08_CONWR',\n",
       " 'PUFC09_WORK',\n",
       " 'PUFC09A_WORK',\n",
       " 'PUFC10_JOB',\n",
       " 'PUFC11A_PROVMUN',\n",
       " 'PUFC13_PROCC',\n",
       " 'PUFC15_PKB',\n",
       " 'PUFC16_NATEM',\n",
       " 'PUFC17_PNWHRS',\n",
       " 'PUFC18_PHOURS',\n",
       " 'PUFC19_PWMORE',\n",
       " 'PUFC20_PLADDW',\n",
       " 'PUFC20B_FTWORK',\n",
       " 'PUFC21_PCLASS',\n",
       " 'PUFC22_OJOB',\n",
       " 'PUFC23_THOURS',\n",
       " 'PUFC24_WWM48H',\n",
       " 'PUFC25_LOOKW',\n",
       " 'PUFC25B_FTWORK',\n",
       " 'PUFC26_WYNOT',\n",
       " 'PUFC27_AVAIL',\n",
       " 'PUFC28_PREVJOB',\n",
       " 'PUFC29_YEAR',\n",
       " 'PUFC29_MONTH',\n",
       " 'PUFC31_POCC',\n",
       " 'PUFC33_QKB',\n",
       " 'PUFNEWEMPSTAT']"
      ]
     },
     "execution_count": 2,
     "metadata": {},
     "output_type": "execute_result"
    }
   ],
   "source": [
    "df.columns.tolist()"
   ]
  }
 ],
 "metadata": {
  "kernelspec": {
   "display_name": "CSMODEL Shared Env",
   "language": "python",
   "name": "myenv"
  },
  "language_info": {
   "codemirror_mode": {
    "name": "ipython",
    "version": 3
   },
   "file_extension": ".py",
   "mimetype": "text/x-python",
   "name": "python",
   "nbconvert_exporter": "python",
   "pygments_lexer": "ipython3",
   "version": "3.13.3"
  }
 },
 "nbformat": 4,
 "nbformat_minor": 5
}
